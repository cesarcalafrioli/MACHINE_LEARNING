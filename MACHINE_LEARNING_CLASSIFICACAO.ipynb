{
  "nbformat": 4,
  "nbformat_minor": 0,
  "metadata": {
    "colab": {
      "provenance": [],
      "authorship_tag": "ABX9TyOgaGMgZQsfsjFKqrO8V5HC",
      "include_colab_link": true
    },
    "kernelspec": {
      "name": "python3",
      "display_name": "Python 3"
    },
    "language_info": {
      "name": "python"
    }
  },
  "cells": [
    {
      "cell_type": "markdown",
      "metadata": {
        "id": "view-in-github",
        "colab_type": "text"
      },
      "source": [
        "<a href=\"https://colab.research.google.com/github/cesarcalafrioli/MACHINE_LEARNING/blob/main/MACHINE_LEARNING_CLASSIFICACAO.ipynb\" target=\"_parent\"><img src=\"https://colab.research.google.com/assets/colab-badge.svg\" alt=\"Open In Colab\"/></a>"
      ]
    },
    {
      "cell_type": "markdown",
      "source": [
        "# **CLASSIFICAÇÃO**"
      ],
      "metadata": {
        "id": "6gwRXv9911yo"
      }
    },
    {
      "cell_type": "markdown",
      "source": [
        "Classificação é um tipo de aprendizagem supervisionada onde o alvo é uma classe (Chamada de classe-alvo). O modelo aprende a produzir uma pontuação de classe e atribui cada vetor das características de entrada à classse com a maior pontuação.\n",
        "\n",
        "Um custo pode ser introduzido para penalizar uma das classes durante a atividade de classe."
      ],
      "metadata": {
        "id": "FGMML5Ih19rY"
      }
    },
    {
      "cell_type": "code",
      "execution_count": null,
      "metadata": {
        "id": "gAxQe6BF1x8Q"
      },
      "outputs": [],
      "source": []
    },
    {
      "cell_type": "markdown",
      "source": [
        "# **Referências**"
      ],
      "metadata": {
        "id": "7__Ibxsb2OGg"
      }
    },
    {
      "cell_type": "markdown",
      "source": [
        "Knime.learnupon.com -> Curso L4-ML"
      ],
      "metadata": {
        "id": "ig6FWqit2QOM"
      }
    }
  ]
}