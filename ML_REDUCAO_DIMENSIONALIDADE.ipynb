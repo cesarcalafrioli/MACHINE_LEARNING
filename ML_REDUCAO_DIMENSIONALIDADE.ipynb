{
  "nbformat": 4,
  "nbformat_minor": 0,
  "metadata": {
    "colab": {
      "provenance": [],
      "authorship_tag": "ABX9TyNLAg+7vbZk+QJYsiIjZzSV",
      "include_colab_link": true
    },
    "kernelspec": {
      "name": "python3",
      "display_name": "Python 3"
    },
    "language_info": {
      "name": "python"
    }
  },
  "cells": [
    {
      "cell_type": "markdown",
      "metadata": {
        "id": "view-in-github",
        "colab_type": "text"
      },
      "source": [
        "<a href=\"https://colab.research.google.com/github/cesarcalafrioli/MACHINE_LEARNING/blob/main/ML_REDUCAO_DIMENSIONALIDADE.ipynb\" target=\"_parent\"><img src=\"https://colab.research.google.com/assets/colab-badge.svg\" alt=\"Open In Colab\"/></a>"
      ]
    },
    {
      "cell_type": "markdown",
      "source": [
        "# **Redução da Dimensionalidade**"
      ],
      "metadata": {
        "id": "v1_P1A2kpNrR"
      }
    },
    {
      "cell_type": "markdown",
      "source": [],
      "metadata": {
        "id": "382O_Vx7pTTf"
      }
    },
    {
      "cell_type": "code",
      "execution_count": null,
      "metadata": {
        "id": "vtqmoXuxosLX"
      },
      "outputs": [],
      "source": []
    },
    {
      "cell_type": "markdown",
      "source": [
        "# **Referências**"
      ],
      "metadata": {
        "id": "GK8N1su9ozHv"
      }
    },
    {
      "cell_type": "markdown",
      "source": [
        "https://giannistolios.medium.com/exploring-dimensionality-reduction-with-python-a0d769a8783f"
      ],
      "metadata": {
        "id": "s8hsL69Xo14Y"
      }
    }
  ]
}