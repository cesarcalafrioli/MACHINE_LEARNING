{
  "nbformat": 4,
  "nbformat_minor": 0,
  "metadata": {
    "colab": {
      "provenance": [],
      "authorship_tag": "ABX9TyPzBwEvJqmfUZ+8NmYe2PZI",
      "include_colab_link": true
    },
    "kernelspec": {
      "name": "python3",
      "display_name": "Python 3"
    },
    "language_info": {
      "name": "python"
    }
  },
  "cells": [
    {
      "cell_type": "markdown",
      "metadata": {
        "id": "view-in-github",
        "colab_type": "text"
      },
      "source": [
        "<a href=\"https://colab.research.google.com/github/cesarcalafrioli/MACHINE_LEARNING/blob/main/ML_INFERENCIA_VARIACIONAL.ipynb\" target=\"_parent\"><img src=\"https://colab.research.google.com/assets/colab-badge.svg\" alt=\"Open In Colab\"/></a>"
      ]
    },
    {
      "cell_type": "code",
      "execution_count": null,
      "metadata": {
        "id": "15eqNJUP5lAl"
      },
      "outputs": [],
      "source": []
    },
    {
      "cell_type": "markdown",
      "source": [
        "# **Referências**"
      ],
      "metadata": {
        "id": "PD2h5a105n3s"
      }
    },
    {
      "cell_type": "markdown",
      "source": [
        "https://jonathan-hui.medium.com/machine-learning-variational-inference-273d8e6480bb"
      ],
      "metadata": {
        "id": "LW8UvVQI5qTl"
      }
    }
  ]
}