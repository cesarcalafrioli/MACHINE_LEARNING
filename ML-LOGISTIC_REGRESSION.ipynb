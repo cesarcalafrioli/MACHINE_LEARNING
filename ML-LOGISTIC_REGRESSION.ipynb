{
  "nbformat": 4,
  "nbformat_minor": 0,
  "metadata": {
    "colab": {
      "provenance": [],
      "authorship_tag": "ABX9TyMF9JyF7CjYxxI3eVEizsZs",
      "include_colab_link": true
    },
    "kernelspec": {
      "name": "python3",
      "display_name": "Python 3"
    },
    "language_info": {
      "name": "python"
    }
  },
  "cells": [
    {
      "cell_type": "markdown",
      "metadata": {
        "id": "view-in-github",
        "colab_type": "text"
      },
      "source": [
        "<a href=\"https://colab.research.google.com/github/cesarcalafrioli/MACHINE_LEARNING/blob/main/ML-LOGISTIC_REGRESSION.ipynb\" target=\"_parent\"><img src=\"https://colab.research.google.com/assets/colab-badge.svg\" alt=\"Open In Colab\"/></a>"
      ]
    },
    {
      "cell_type": "markdown",
      "source": [
        "# **Regressão Logística**"
      ],
      "metadata": {
        "id": "USQRUCNSfa-R"
      }
    },
    {
      "cell_type": "markdown",
      "source": [
        "A regressão logística é um modelo estatístico utilizado para prever a probabilidade de um resultado binário com base em uma ou mais variáveis explanatórias.\n",
        "\n",
        "É muito eficaz quando temos duas classes a predizer, onde, por exemplo, a previsão sobre uma decisão judicial ser favorável ou não.\n",
        "\n",
        "A regressão logística, de acordo com a documentação do sklearn, é ideal para problemas de classificação onde interpretamos o output como a probabilidade de uma amostra pertencer a uma classe específica. Assim, a técinca permite calcualr a probabilidade de, por exemplo, a decisão judicial ser favorável com base nas variáveis fornecidas."
      ],
      "metadata": {
        "id": "FyYuBMMJfegn"
      }
    },
    {
      "cell_type": "code",
      "execution_count": null,
      "metadata": {
        "id": "6aAZ-ixJX6Us"
      },
      "outputs": [],
      "source": []
    },
    {
      "cell_type": "markdown",
      "source": [
        "# **Referências**"
      ],
      "metadata": {
        "id": "ayBkqiMHYvVd"
      }
    },
    {
      "cell_type": "markdown",
      "source": [
        "https://www.datacamp.com/tutorial/understanding-logistic-regression-python\n",
        "\n",
        "https://scikit-learn.org/stable/modules/linear_model.html#logistic-regression"
      ],
      "metadata": {
        "id": "EifwMJlQYxcM"
      }
    }
  ]
}